{
 "cells": [
  {
   "cell_type": "code",
   "execution_count": 15,
   "id": "0c453c48",
   "metadata": {},
   "outputs": [],
   "source": [
    "import numpy as np\n",
    "import pandas as pd\n",
    "from sklearn .model_selection import train_test_split\n",
    "import random\n",
    "from collections import Counter\n"
   ]
  },
  {
   "cell_type": "code",
   "execution_count": 16,
   "id": "523ec573",
   "metadata": {},
   "outputs": [],
   "source": [
    "def load_data():\n",
    "    df = pd.read_csv(\"iris.data\", header=None)\n",
    "    df.columns = ['Sepal Length', 'Sepal Width', 'Petal Length', 'Petal Width', 'Class']\n",
    "    return df"
   ]
  },
  {
   "cell_type": "code",
   "execution_count": 17,
   "id": "268076d7",
   "metadata": {},
   "outputs": [],
   "source": [
    "def divide_data(df, seed):\n",
    "    # converts the dataframe into list\n",
    "    data = df.values.tolist()\n",
    "    # prepares 3 list for each type\n",
    "    data_setosa = []\n",
    "    data_versicolor = []\n",
    "    data_virginica = []\n",
    "\n",
    "    # assigns each to its list accordingly\n",
    "    for datum in data:\n",
    "        if datum[4] == \"Iris-setosa\":\n",
    "            data_setosa.append(datum)\n",
    "        elif datum[4] == \"Iris-versicolor\":\n",
    "            data_versicolor.append(datum)\n",
    "        elif datum[4] == \"Iris-virginica\":\n",
    "            data_virginica.append(datum)\n",
    "            \n",
    "    # divides the data into input and label\n",
    "    X_setosa = [row[:4] for row in data_setosa] # gets first 4 columns as input \n",
    "    Y_setosa = [row[4] for row in data_setosa] # class label as last column\n",
    "\n",
    "    # randomly divides each data by 50/50 train and test while maintaining class balance\n",
    "    x_setosa_train, x_setosa_test, y_setosa_train, y_setosa_test = train_test_split(X_setosa, Y_setosa, test_size = 0.5, random_state=seed, shuffle=True)\n",
    "\n",
    "\n",
    "    X_versicolor = [row[:4] for row in data_versicolor] # gets first 4 columns as input \n",
    "    Y_versicolor = [row[4] for row in data_versicolor] # class label as last column\n",
    "\n",
    "    x_versicolor_train, x_versicolor_test, y_versicolor_train, y_versicolor_test = train_test_split(X_versicolor, Y_versicolor, test_size = 0.5, random_state=seed, shuffle=True)\n",
    "\n",
    "\n",
    "    X_virginica = [row[:4] for row in data_virginica] # gets first 4 columns as input \n",
    "    Y_virginica = [row[4] for row in data_virginica] # class label as last column\n",
    "\n",
    "    x_virginica_train, x_virginica_test, y_virginica_train, y_virginica_test = train_test_split(X_virginica, Y_virginica, test_size = 0.5, random_state=seed, shuffle=True)\n",
    "\n",
    "    random.seed(seed)\n",
    "    # merges back the dataset into general x train, y train, x test and y test\n",
    "    X_train = x_setosa_train + x_versicolor_train + x_virginica_train\n",
    "    Y_train = y_setosa_train + y_versicolor_train + y_virginica_train\n",
    "\n",
    "    #shuffles while keeping the order\n",
    "    combined_train = list(zip(X_train, Y_train))\n",
    "    random.shuffle(combined_train)\n",
    "    X_train, Y_train = zip(*combined_train)\n",
    "\n",
    "\n",
    "    X_test = x_setosa_test + x_versicolor_test + x_virginica_test\n",
    "    Y_test = y_setosa_test + y_versicolor_test + y_virginica_test\n",
    "    combined_test = list(zip(X_test, Y_test))\n",
    "    random.shuffle(combined_test)\n",
    "    X_test, Y_test = zip(*combined_test)\n",
    "\n",
    "    return X_train, Y_train, X_test, Y_test"
   ]
  },
  {
   "cell_type": "code",
   "execution_count": 18,
   "id": "03d1855d",
   "metadata": {},
   "outputs": [],
   "source": [
    "def process_data(X_train, Y_train, X_test, Y_test, interest):\n",
    "    X_train = np.array(X_train)\n",
    "    X_test = np.array(X_test)\n",
    "\n",
    "    #dividing training into one species vs others\n",
    "    x_train_1 = []\n",
    "    x_train_0 = []\n",
    "    for i, x_train in enumerate(X_train):\n",
    "        if Y_train[i] == interest:\n",
    "            x_train_1.append(x_train)\n",
    "        else:\n",
    "            x_train_0.append(x_train)\n",
    "\n",
    "    x_train_1 = np.array(x_train_1)\n",
    "    x_train_0 = np.array(x_train_0)\n",
    "\n",
    "    # converting Y ground truth labels into binary one species: 1 other: 0\n",
    "    Y_train_bin = []\n",
    "    Y_test_bin = []\n",
    "    for y_train in Y_train:\n",
    "        if y_train == interest:\n",
    "            Y_train_bin.append(1)\n",
    "        else:\n",
    "            Y_train_bin.append(0)\n",
    "\n",
    "    for y_test in Y_test:\n",
    "        if y_test == interest:\n",
    "            Y_test_bin.append(1)\n",
    "        else:\n",
    "            Y_test_bin.append(0)\n",
    "\n",
    "    Y_train = np.array(Y_train_bin)\n",
    "    Y_test = np.array(Y_test_bin)\n",
    "\n",
    "    # Calculates mean of each class\n",
    "    mu_1 = np.mean(x_train_1, axis=0)\n",
    "    mu_0 = np.mean(x_train_0, axis=0)\n",
    "\n",
    "    # print(mu_1)\n",
    "    # print(mu_0)\n",
    "\n",
    "    # print(len(x_train_0))\n",
    "    # print(len(x_train_1))\n",
    "\n",
    "    # print(Y_train)\n",
    "    # print(Y_test)\n",
    "    # print(len(Y_train))\n",
    "    # print(len(Y_test))\n",
    "    return X_train, Y_train, X_test, Y_test, x_train_1, x_train_0, mu_1, mu_0"
   ]
  },
  {
   "cell_type": "code",
   "execution_count": null,
   "id": "fd6acc29",
   "metadata": {},
   "outputs": [],
   "source": [
    "def fischer_train(x_train_1, x_train_0, mu_1, mu_0):\n",
    "    # small within class scatter variation matrix for class 1 and 0\n",
    "    S1 = (x_train_1 - mu_1).T @ (x_train_1 - mu_1)\n",
    "    S0 = (x_train_0 - mu_0).T @ (x_train_0 - mu_0)\n",
    "    # total within class scatter matrix\n",
    "    SW = S0 + S1\n",
    "    #calculates the projection direction vector w = SW(-1)(mu1−mu0)\n",
    "    w = np.linalg.inv(SW) @ (mu_1 - mu_0)\n",
    "    #midpoint threshold between means for deciding whether point belongs to class 1 or 0\n",
    "    threshold = 0.5 * (w @ mu_1 + w @ mu_0)\n",
    "    \n",
    "    return w, threshold\n",
    "    "
   ]
  },
  {
   "cell_type": "code",
   "execution_count": 20,
   "id": "eb000d74",
   "metadata": {},
   "outputs": [],
   "source": [
    "def fischer_predict(X_test, w, threshold):\n",
    "    # project the new data and if it is higher than the threshold class 1 if not 0\n",
    "    predictions = []\n",
    "    for x_test in X_test:\n",
    "        projection = x_test @ w\n",
    "        if(projection >= threshold):\n",
    "            predictions.append(1)\n",
    "        else:\n",
    "            predictions.append(0)\n",
    "    return predictions"
   ]
  },
  {
   "cell_type": "code",
   "execution_count": 21,
   "id": "8a2105d5",
   "metadata": {},
   "outputs": [],
   "source": [
    "def evaluate(predictions, Y_test):\n",
    "    # evaluation part\n",
    "    if len(Y_test) != len(predictions):\n",
    "        print(\"Prediction size did not match with ground truth labels!\")\n",
    "        \n",
    "    sample_size = len(Y_test)\n",
    "    correct_prediction = 0\n",
    "    for prediction, y_test in zip(predictions, Y_test):\n",
    "        if prediction == y_test:\n",
    "            correct_prediction += 1\n",
    "\n",
    "    return correct_prediction / sample_size"
   ]
  },
  {
   "cell_type": "code",
   "execution_count": 22,
   "id": "f53276c6",
   "metadata": {},
   "outputs": [],
   "source": [
    "def execute_experiment(interest, random_seed):\n",
    "    df = load_data()\n",
    "    #print(df)\n",
    "    X_train, Y_train, X_test, Y_test = divide_data(df, random_seed)\n",
    "    X_train, Y_train, X_test, Y_test, x_train_1, x_train_0, mu_1, mu_0 = process_data(X_train, Y_train, X_test, Y_test, interest)\n",
    "    w, threshold = fischer_train(x_train_1, x_train_0, mu_1, mu_0)\n",
    "    predictions = fischer_predict(X_test, w, threshold)\n",
    "    return evaluate(predictions, Y_test)"
   ]
  },
  {
   "cell_type": "code",
   "execution_count": 23,
   "id": "9569aacd",
   "metadata": {},
   "outputs": [
    {
     "name": "stdout",
     "output_type": "stream",
     "text": [
      "1.0\n",
      "0.6666666666666666\n",
      "0.9333333333333333\n"
     ]
    }
   ],
   "source": [
    "# one time experiment for testing\n",
    "\n",
    "interest = \"Iris-setosa\"\n",
    "print(execute_experiment(interest, 42))\n",
    "interest = \"Iris-versicolor\"\n",
    "print(execute_experiment(interest, 42))\n",
    "interest = \"Iris-virginica\"\n",
    "print(execute_experiment(interest, 42))\n",
    "\n"
   ]
  },
  {
   "cell_type": "code",
   "execution_count": 24,
   "id": "2e6155b4",
   "metadata": {},
   "outputs": [
    {
     "name": "stdout",
     "output_type": "stream",
     "text": [
      "Mean accuracy of 20 experiments setosa: 1.0\n",
      "Mean accuracy of 20 experiments versicolor: 0.7166666666666666\n",
      "Mean accuracy of 20 experiments virginica: 0.8793333333333333\n"
     ]
    }
   ],
   "source": [
    "# conducting the experiment 20 times\n",
    "accuracy_setosa = []\n",
    "accuracy_versicolor = []\n",
    "accuracy_virginica = []\n",
    "for i in range(20):\n",
    "    random_seed = random.randint(0, 4294967295)\n",
    "    interest = \"Iris-setosa\"\n",
    "    accuracy_setosa.append(execute_experiment(interest, random_seed))\n",
    "    \n",
    "    interest = \"Iris-versicolor\"\n",
    "    accuracy_versicolor.append(execute_experiment(interest, random_seed))\n",
    "    \n",
    "    interest = \"Iris-virginica\"\n",
    "    accuracy_virginica.append(execute_experiment(interest, random_seed))\n",
    "\n",
    "print(f\"Mean accuracy of 20 experiments setosa: {np.mean(accuracy_setosa)}\")\n",
    "print(f\"Mean accuracy of 20 experiments versicolor: {np.mean(accuracy_versicolor)}\")\n",
    "print(f\"Mean accuracy of 20 experiments virginica: {np.mean(accuracy_virginica)}\")"
   ]
  },
  {
   "cell_type": "code",
   "execution_count": 26,
   "id": "133e04e2",
   "metadata": {},
   "outputs": [
    {
     "name": "stdout",
     "output_type": "stream",
     "text": [
      "20 Sample variance setosa: 0.0\n",
      "20 Sample variance versicolor: 0.0022199999999999998\n",
      "20 Sample variance virginica: 0.0007728888888888884\n"
     ]
    }
   ],
   "source": [
    "sum = 0\n",
    "for accuracy in accuracy_setosa:\n",
    "    # sum = sum of (x(i) - x_mean)^2\n",
    "    sum += (accuracy - np.mean(accuracy_setosa)) ** 2\n",
    "# sum / n-1\n",
    "sample_variance_setosa = sum / 20\n",
    "print(f\"20 Sample variance setosa: {sample_variance_setosa}\")\n",
    "\n",
    "sum = 0\n",
    "for accuracy in accuracy_versicolor:\n",
    "    # sum = sum of (x(i) - x_mean)^2\n",
    "    sum += (accuracy - np.mean(accuracy_versicolor)) ** 2\n",
    "# sum / n-1\n",
    "sample_variance_versicolor = sum / 20\n",
    "print(f\"20 Sample variance versicolor: {sample_variance_versicolor}\")\n",
    "\n",
    "sum = 0\n",
    "for accuracy in accuracy_virginica:\n",
    "    # sum = sum of (x(i) - x_mean)^2\n",
    "    sum += (accuracy - np.mean(accuracy_virginica)) ** 2\n",
    "# sum / n-1\n",
    "sample_variance_virginica = sum / 20\n",
    "print(f\"20 Sample variance virginica: {sample_variance_virginica}\")\n",
    "\n"
   ]
  },
  {
   "cell_type": "code",
   "execution_count": 29,
   "id": "fe18a591",
   "metadata": {},
   "outputs": [
    {
     "data": {
      "image/png": "[encoded data removed]",
      "text/plain": [
       "<Figure size 640x480 with 1 Axes>"
      ]
     },
     "metadata": {},
     "output_type": "display_data"
    },
    {
     "data": {
      "text/plain": [
       "<Figure size 700x400 with 0 Axes>"
      ]
     },
     "metadata": {},
     "output_type": "display_data"
    },
    {
     "name": "stdout",
     "output_type": "stream",
     "text": [
      "Mean accuracy: [1.0, 0.7166666666666666, 0.8793333333333333]\n",
      "Standard deviation: [0.0, 0.047116875957558986, 0.02780087928265738]\n",
      "Variance: [0.0, 0.0022199999999999998, 0.0007728888888888884]\n"
     ]
    }
   ],
   "source": [
    "import matplotlib.pyplot as plt\n",
    "\n",
    "mean_accuracy = []\n",
    "mean_accuracy.append(np.mean(accuracy_setosa))\n",
    "mean_accuracy.append(np.mean(accuracy_versicolor))\n",
    "mean_accuracy.append(np.mean(accuracy_virginica))\n",
    "\n",
    "std_dev = []\n",
    "std_dev.append(np.std(accuracy_setosa))\n",
    "std_dev.append(np.std(accuracy_versicolor))\n",
    "std_dev.append(np.std(accuracy_virginica))\n",
    "\n",
    "variance = []\n",
    "variance.append(sample_variance_setosa)\n",
    "variance.append(sample_variance_versicolor)\n",
    "variance.append(sample_variance_virginica)\n",
    "\n",
    "# mean plot\n",
    "plt.bar(['setosa vs others', 'versicolor vs others', 'virginica vs others'], mean_accuracy, yerr=std_dev, capsize=10, color=['red', 'green', 'blue'])\n",
    "plt.title('Fischer lda accuracy')\n",
    "plt.xlabel('species')\n",
    "plt.ylabel('accuracy')\n",
    "plt.figure(figsize=(7, 4))\n",
    "plt.show()\n",
    "\n",
    "print(f\"Mean accuracy: {mean_accuracy}\")\n",
    "print(f\"Standard deviation: {std_dev}\")\n",
    "print(f\"Variance: {variance}\")"
   ]
  }
 ],
 "metadata": {
  "kernelspec": {
   "display_name": "myenv",
   "language": "python",
   "name": "python3"
  },
  "language_info": {
   "codemirror_mode": {
    "name": "ipython",
    "version": 3
   },
   "file_extension": ".py",
   "mimetype": "text/x-python",
   "name": "python",
   "nbconvert_exporter": "python",
   "pygments_lexer": "ipython3",
   "version": "3.11.9"
  }
 },
 "nbformat": 4,
 "nbformat_minor": 5
}
