{
 "cells": [
  {
   "cell_type": "code",
   "execution_count": 191,
   "id": "0c453c48",
   "metadata": {},
   "outputs": [],
   "source": [
    "import numpy as np\n",
    "import pandas as pd\n",
    "from sklearn .model_selection import train_test_split\n",
    "import random\n",
    "from collections import Counter\n"
   ]
  },
  {
   "cell_type": "code",
   "execution_count": 192,
   "id": "523ec573",
   "metadata": {},
   "outputs": [],
   "source": [
    "def load_data():\n",
    "    df = pd.read_csv(\"iris.data\", header=None)\n",
    "    df.columns = ['Sepal Length', 'Sepal Width', 'Petal Length', 'Petal Width', 'Class']\n",
    "    return df"
   ]
  },
  {
   "cell_type": "code",
   "execution_count": 193,
   "id": "268076d7",
   "metadata": {},
   "outputs": [],
   "source": [
    "def divide_data(df, seed):\n",
    "    # converts the dataframe into list\n",
    "    data = df.values.tolist()\n",
    "    # prepares 3 list for each type\n",
    "    data_setosa = []\n",
    "    data_versicolor = []\n",
    "    data_virginica = []\n",
    "\n",
    "    # assigns each to its list accordingly\n",
    "    for datum in data:\n",
    "        if datum[4] == \"Iris-setosa\":\n",
    "            data_setosa.append(datum)\n",
    "        elif datum[4] == \"Iris-versicolor\":\n",
    "            data_versicolor.append(datum)\n",
    "        elif datum[4] == \"Iris-virginica\":\n",
    "            data_virginica.append(datum)\n",
    "            \n",
    "    # divides the data into input and label\n",
    "    X_setosa = [row[:4] for row in data_setosa] # gets first 4 columns as input \n",
    "    Y_setosa = [row[4] for row in data_setosa] # class label as last column\n",
    "\n",
    "    # randomly divides each data by 50/50 train and test while maintaining class balance\n",
    "    x_setosa_train, x_setosa_test, y_setosa_train, y_setosa_test = train_test_split(X_setosa, Y_setosa, test_size = 0.5, random_state=seed, shuffle=True)\n",
    "\n",
    "\n",
    "    X_versicolor = [row[:4] for row in data_versicolor] # gets first 4 columns as input \n",
    "    Y_versicolor = [row[4] for row in data_versicolor] # class label as last column\n",
    "\n",
    "    x_versicolor_train, x_versicolor_test, y_versicolor_train, y_versicolor_test = train_test_split(X_versicolor, Y_versicolor, test_size = 0.5, random_state=seed, shuffle=True)\n",
    "\n",
    "\n",
    "    X_virginica = [row[:4] for row in data_virginica] # gets first 4 columns as input \n",
    "    Y_virginica = [row[4] for row in data_virginica] # class label as last column\n",
    "\n",
    "    x_virginica_train, x_virginica_test, y_virginica_train, y_virginica_test = train_test_split(X_virginica, Y_virginica, test_size = 0.5, random_state=seed, shuffle=True)\n",
    "\n",
    "    random.seed(seed)\n",
    "    # merges back the dataset into general x train, y train, x test and y test\n",
    "    X_train = x_setosa_train + x_versicolor_train + x_virginica_train\n",
    "    Y_train = y_setosa_train + y_versicolor_train + y_virginica_train\n",
    "\n",
    "    #shuffles while keeping the order\n",
    "    combined_train = list(zip(X_train, Y_train))\n",
    "    random.shuffle(combined_train)\n",
    "    X_train, Y_train = zip(*combined_train)\n",
    "\n",
    "\n",
    "    X_test = x_setosa_test + x_versicolor_test + x_virginica_test\n",
    "    Y_test = y_setosa_test + y_versicolor_test + y_virginica_test\n",
    "    combined_test = list(zip(X_test, Y_test))\n",
    "    random.shuffle(combined_test)\n",
    "    X_test, Y_test = zip(*combined_test)\n",
    "\n",
    "    return X_train, Y_train, X_test, Y_test"
   ]
  },
  {
   "cell_type": "code",
   "execution_count": null,
   "id": "03d1855d",
   "metadata": {},
   "outputs": [],
   "source": [
    "def process_data(X_train, Y_train, X_test, Y_test, interest):\n",
    "    X_train = np.array(X_train)\n",
    "    X_test = np.array(X_test)\n",
    "\n",
    "    #dividing training into one species vs others\n",
    "    x_train_1 = []\n",
    "    x_train_0 = []\n",
    "    for i, x_train in enumerate(X_train):\n",
    "        if Y_train[i] == interest:\n",
    "            x_train_1.append(x_train)\n",
    "        else:\n",
    "            x_train_0.append(x_train)\n",
    "\n",
    "    x_train_1 = np.array(x_train_1)\n",
    "    x_train_0 = np.array(x_train_0)\n",
    "\n",
    "    # converting Y ground truth labels into binary one species: 1 other: 0\n",
    "    Y_train_bin = []\n",
    "    Y_test_bin = []\n",
    "    for y_train in Y_train:\n",
    "        if y_train == interest:\n",
    "            Y_train_bin.append(1)\n",
    "        else:\n",
    "            Y_train_bin.append(0)\n",
    "\n",
    "    for y_test in Y_test:\n",
    "        if y_test == interest:\n",
    "            Y_test_bin.append(1)\n",
    "        else:\n",
    "            Y_test_bin.append(0)\n",
    "\n",
    "    Y_train = np.array(Y_train_bin)\n",
    "    Y_test = np.array(Y_test_bin)\n",
    "\n",
    "    # Calculates mean of each class\n",
    "    mu_1 = np.mean(x_train_1, axis=0)\n",
    "    mu_0 = np.mean(x_train_0, axis=0)\n",
    "\n",
    "    # print(mu_1)\n",
    "    # print(mu_0)\n",
    "\n",
    "    # print(len(x_train_0))\n",
    "    # print(len(x_train_1))\n",
    "\n",
    "    # print(Y_train)\n",
    "    # print(Y_test)\n",
    "    # print(len(Y_train))\n",
    "    # print(len(Y_test))\n",
    "        \n",
    "    #second classifier versicolor or other\n",
    "    #third classifier virginica or other\n",
    "    return X_train, Y_train, X_test, Y_test, x_train_1, x_train_0, mu_1, mu_0"
   ]
  },
  {
   "cell_type": "code",
   "execution_count": null,
   "id": "fd6acc29",
   "metadata": {},
   "outputs": [],
   "source": [
    "def fischer_train(x_train_1, x_train_0, mu_1, mu_0):\n",
    "    # within class scatter matrix for class one and two\n",
    "    S1 = (x_train_1 - mu_1).T @ (x_train_1 - mu_1)\n",
    "    S0 = (x_train_0 - mu_0).T @ (x_train_0 - mu_0)\n",
    "    # total withing class scatter matrix\n",
    "    SW = S0 + S1\n",
    "    #calculates the projection direction vector w = SW(-1)(mu1−mu0)\n",
    "    w = np.linalg.inv(SW) @ (mu_1 - mu_0)\n",
    "    #midpoint threshold between means for deciding whether point belongs to class 1 or 0\n",
    "    threshold = 0.5 * (w @ mu_1 + w @ mu_0)\n",
    "    \n",
    "    return w, threshold\n",
    "    "
   ]
  },
  {
   "cell_type": "code",
   "execution_count": null,
   "id": "eb000d74",
   "metadata": {},
   "outputs": [],
   "source": [
    "def fischer_predict(X_test, w, threshold):\n",
    "    # project the new data and if it is higher than the threshold class 1 if not 0\n",
    "    predictions = []\n",
    "    for x_test in X_test:\n",
    "        projection = x_test @ w\n",
    "        if(projection >= threshold):\n",
    "            predictions.append(1)\n",
    "        else:\n",
    "            predictions.append(0)\n",
    "    return predictions"
   ]
  },
  {
   "cell_type": "code",
   "execution_count": null,
   "id": "8a2105d5",
   "metadata": {},
   "outputs": [],
   "source": [
    "def evaluate(predictions, Y_test):\n",
    "    # evaluation part\n",
    "    # calculates how many correct predictions made divided by total size of test\n",
    "    if len(Y_test) != len(predictions):\n",
    "        print(\"Prediction size did not match with ground truth labels!\")\n",
    "        \n",
    "    sample_size = len(Y_test)\n",
    "    correct_prediction = 0\n",
    "    for prediction, y_test in zip(predictions, Y_test):\n",
    "        if prediction == y_test:\n",
    "            correct_prediction += 1\n",
    "\n",
    "    return correct_prediction / sample_size"
   ]
  },
  {
   "cell_type": "code",
   "execution_count": 198,
   "id": "f53276c6",
   "metadata": {},
   "outputs": [],
   "source": [
    "def execute_experiment(interest, random_seed):\n",
    "    df = load_data()\n",
    "    X_train, Y_train, X_test, Y_test = divide_data(df, random_seed)\n",
    "    X_train, Y_train, X_test, Y_test, x_train_1, x_train_0, mu_1, mu_0 = process_data(X_train, Y_train, X_test, Y_test, interest)\n",
    "    w, threshold = fischer_train(x_train_1, x_train_0, mu_1, mu_0)\n",
    "    predictions = fischer_predict(X_test, w, threshold)\n",
    "    return evaluate(predictions, Y_test)"
   ]
  },
  {
   "cell_type": "code",
   "execution_count": 199,
   "id": "9569aacd",
   "metadata": {},
   "outputs": [
    {
     "data": {
      "text/plain": [
       "0.9333333333333333"
      ]
     },
     "execution_count": 199,
     "metadata": {},
     "output_type": "execute_result"
    }
   ],
   "source": [
    "# one time experiment\n",
    "\n",
    "interest = \"Iris-setosa\"\n",
    "execute_experiment(interest, 42)\n",
    "interest = \"Iris-versicolor\"\n",
    "execute_experiment(interest, 42)\n",
    "interest = \"Iris-virginica\"\n",
    "execute_experiment(interest, 42)\n",
    "\n"
   ]
  },
  {
   "cell_type": "code",
   "execution_count": 200,
   "id": "2e6155b4",
   "metadata": {},
   "outputs": [
    {
     "name": "stdout",
     "output_type": "stream",
     "text": [
      "Mean accuracy of 20 experiments: 1.0\n",
      "Mean accuracy of 20 experiments: 0.7166666666666666\n",
      "Mean accuracy of 20 experiments: 0.8793333333333333\n"
     ]
    }
   ],
   "source": [
    "# conducting the experiment 20 times\n",
    "accuracy_setosa = []\n",
    "accuracy_versicolor = []\n",
    "accuracy_virginica = []\n",
    "for i in range(20):\n",
    "    random_seed = random.randint(0, 4294967295)\n",
    "    interest = \"Iris-setosa\"\n",
    "    accuracy_setosa.append(execute_experiment(interest, random_seed))\n",
    "    \n",
    "    interest = \"Iris-versicolor\"\n",
    "    accuracy_versicolor.append(execute_experiment(interest, random_seed))\n",
    "    \n",
    "    interest = \"Iris-virginica\"\n",
    "    accuracy_virginica.append(execute_experiment(interest, random_seed))\n",
    "\n",
    "print(f\"Mean accuracy of 20 experiments: {np.mean(accuracy_setosa)}\")\n",
    "print(f\"Mean accuracy of 20 experiments: {np.mean(accuracy_versicolor)}\")\n",
    "print(f\"Mean accuracy of 20 experiments: {np.mean(accuracy_virginica)}\")"
   ]
  }
 ],
 "metadata": {
  "kernelspec": {
   "display_name": "myenv",
   "language": "python",
   "name": "python3"
  },
  "language_info": {
   "codemirror_mode": {
    "name": "ipython",
    "version": 3
   },
   "file_extension": ".py",
   "mimetype": "text/x-python",
   "name": "python",
   "nbconvert_exporter": "python",
   "pygments_lexer": "ipython3",
   "version": "3.11.9"
  }
 },
 "nbformat": 4,
 "nbformat_minor": 5
}
